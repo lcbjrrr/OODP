{
  "nbformat": 4,
  "nbformat_minor": 0,
  "metadata": {
    "colab": {
      "provenance": [],
      "authorship_tag": "ABX9TyP2RTLa+G7KyWe7zCyROm7D",
      "include_colab_link": true
    },
    "kernelspec": {
      "name": "python3",
      "display_name": "Python 3"
    },
    "language_info": {
      "name": "python"
    }
  },
  "cells": [
    {
      "cell_type": "markdown",
      "metadata": {
        "id": "view-in-github",
        "colab_type": "text"
      },
      "source": [
        "<a href=\"https://colab.research.google.com/github/lcbjrrr/OODP/blob/main/Java_Python.ipynb\" target=\"_parent\"><img src=\"https://colab.research.google.com/assets/colab-badge.svg\" alt=\"Open In Colab\"/></a>"
      ]
    },
    {
      "cell_type": "markdown",
      "source": [
        "## Python vs Java"
      ],
      "metadata": {
        "id": "lVe1Kj-1wB0O"
      }
    },
    {
      "cell_type": "markdown",
      "source": [
        "![](https://pbs.twimg.com/media/GtbMscOWcAA4dEh?format=jpg&name=medium)"
      ],
      "metadata": {
        "id": "wXOt1GBdwFG0"
      }
    },
    {
      "cell_type": "markdown",
      "source": [
        "## If Statement"
      ],
      "metadata": {
        "id": "-QB0TjcrvqFm"
      }
    },
    {
      "cell_type": "code",
      "source": [
        "x = 1\n",
        "if x == 1:\n",
        "    print(\"x = 1\")\n",
        "else:\n",
        "    print(\"x != 1\")"
      ],
      "metadata": {
        "colab": {
          "base_uri": "https://localhost:8080/"
        },
        "id": "p8gwG7MpslOk",
        "outputId": "767cea4e-bce7-4657-f255-2ad5be599820"
      },
      "execution_count": null,
      "outputs": [
        {
          "output_type": "stream",
          "name": "stdout",
          "text": [
            "x = 1\n"
          ]
        }
      ]
    },
    {
      "cell_type": "code",
      "execution_count": null,
      "metadata": {
        "colab": {
          "base_uri": "https://localhost:8080/"
        },
        "id": "09kKlJJLhgho",
        "outputId": "54b0fa33-9d0d-4697-be9d-82ad7095c81d"
      },
      "outputs": [
        {
          "output_type": "stream",
          "name": "stderr",
          "text": [
            "UsageError: Cell magic `%%java` not found.\n"
          ]
        }
      ],
      "source": [
        "%%java\n",
        "public class Main {\n",
        "    public static void main(String[] args) {\n",
        "        int x = 1;\n",
        "        if( x == 1 ) {\n",
        "            System.out.print(\"x equals to 1\");\n",
        "        }else {\n",
        "            System.out.print(\"x not equals 1\");\n",
        "        }\n",
        "    }\n",
        "}"
      ]
    },
    {
      "cell_type": "markdown",
      "source": [
        "## For Loop"
      ],
      "metadata": {
        "id": "Hbs79zx1wJQg"
      }
    },
    {
      "cell_type": "code",
      "source": [
        "for i in range(1,6,1):\n",
        "  print(i)"
      ],
      "metadata": {
        "colab": {
          "base_uri": "https://localhost:8080/"
        },
        "id": "DLs9uOJ5uoFW",
        "outputId": "2c152863-593c-4db3-bb42-83ad15ea8215"
      },
      "execution_count": null,
      "outputs": [
        {
          "output_type": "stream",
          "name": "stdout",
          "text": [
            "1\n",
            "2\n",
            "3\n",
            "4\n",
            "5\n"
          ]
        }
      ]
    },
    {
      "cell_type": "code",
      "source": [
        "%%java\n",
        "for (int i = 1; i <= 5; i++) {\n",
        "    System.out.println(i);\n",
        "}"
      ],
      "metadata": {
        "id": "GAc0re0cuk5M"
      },
      "execution_count": null,
      "outputs": []
    },
    {
      "cell_type": "markdown",
      "source": [
        "## While loop"
      ],
      "metadata": {
        "id": "f3T9mHYMwLao"
      }
    },
    {
      "cell_type": "code",
      "source": [
        "y = 5;\n",
        "while y > 0:\n",
        "  print(y)\n",
        "  y = y - 1"
      ],
      "metadata": {
        "colab": {
          "base_uri": "https://localhost:8080/"
        },
        "id": "k-d8oKIkvs1n",
        "outputId": "3bd17aa7-6799-4fdd-93c3-1c74061e7424"
      },
      "execution_count": null,
      "outputs": [
        {
          "output_type": "stream",
          "name": "stdout",
          "text": [
            "5\n",
            "4\n",
            "3\n",
            "2\n",
            "1\n"
          ]
        }
      ]
    },
    {
      "cell_type": "code",
      "source": [
        "%%java\n",
        "int y = 5;\n",
        "while( y > 0 ) {\n",
        "   System.out.println(y);\n",
        "   y--;\n",
        "}"
      ],
      "metadata": {
        "id": "4fjtjWwivqim"
      },
      "execution_count": null,
      "outputs": []
    },
    {
      "cell_type": "markdown",
      "source": [
        "## Lists and Loops"
      ],
      "metadata": {
        "id": "_xvYOiTOwOFa"
      }
    },
    {
      "cell_type": "code",
      "source": [
        "nums = [1,2,3,4,5]\n",
        "for n in nums:\n",
        "   print(n)"
      ],
      "metadata": {
        "colab": {
          "base_uri": "https://localhost:8080/"
        },
        "id": "YsdrslfNw7jC",
        "outputId": "0a62d9ec-2edf-4c1e-8aa7-8d988eb1bfd2"
      },
      "execution_count": null,
      "outputs": [
        {
          "output_type": "stream",
          "name": "stdout",
          "text": [
            "1\n",
            "2\n",
            "3\n",
            "4\n",
            "5\n"
          ]
        }
      ]
    },
    {
      "cell_type": "code",
      "source": [
        "%%java\n",
        "int[] nums = {1,2,3,4,5};\n",
        "for (int n : nums){\n",
        "   System.out.println(n);\n",
        "}"
      ],
      "metadata": {
        "id": "0JQf6Wjgw3Z9"
      },
      "execution_count": null,
      "outputs": []
    },
    {
      "cell_type": "markdown",
      "source": [
        "## Functions"
      ],
      "metadata": {
        "id": "tbV_TIpQwR_1"
      }
    },
    {
      "cell_type": "code",
      "source": [
        "def add(x, y):\n",
        "  sum = x + y\n",
        "  return sum\n",
        "r = add(1,2)\n",
        "print(r)"
      ],
      "metadata": {
        "colab": {
          "base_uri": "https://localhost:8080/"
        },
        "id": "5Jp0Y9Wy0kdI",
        "outputId": "517a9d04-cfbd-4b6e-f8d1-b3e394cf6927"
      },
      "execution_count": null,
      "outputs": [
        {
          "output_type": "stream",
          "name": "stdout",
          "text": [
            "3\n"
          ]
        }
      ]
    },
    {
      "cell_type": "code",
      "source": [
        "%%java\n",
        "int add(int x, int y) {\n",
        "  int sum = x + y;\n",
        "  return sum;\n",
        "}\n",
        "int r = add(1,2);\n",
        "System.out.println(r);\n"
      ],
      "metadata": {
        "id": "Ex65M39a0SlJ"
      },
      "execution_count": null,
      "outputs": []
    },
    {
      "cell_type": "markdown",
      "source": [
        "# Lists and Arrays"
      ],
      "metadata": {
        "id": "Yjal11aFwWNC"
      }
    },
    {
      "cell_type": "code",
      "source": [
        "grades = [70,90,80]\n",
        "print(grades[1])\n",
        "grades[1]=100\n",
        "print(grades[1])"
      ],
      "metadata": {
        "colab": {
          "base_uri": "https://localhost:8080/"
        },
        "id": "Dy-OER3D1LP_",
        "outputId": "76c71827-b744-4a8a-ed5d-934d8d11e9fb"
      },
      "execution_count": null,
      "outputs": [
        {
          "output_type": "stream",
          "name": "stdout",
          "text": [
            "90\n",
            "[70, 100, 80]\n"
          ]
        }
      ]
    },
    {
      "cell_type": "code",
      "source": [
        "%%java\n",
        "int[] grades = {70,90,80};\n",
        "System.out.println(grades[1]);\n",
        "grades[1]=100;\n",
        "System.out.println(grades[1]);"
      ],
      "metadata": {
        "id": "LLTWHwAT1LNY"
      },
      "execution_count": null,
      "outputs": []
    },
    {
      "cell_type": "markdown",
      "source": [
        "## JVM"
      ],
      "metadata": {
        "id": "gacWFbtiwbTP"
      }
    },
    {
      "cell_type": "markdown",
      "source": [
        "![](https://www.edureka.co/blog/wp-content/uploads/2019/08/2019-08-16-12_10_06-Window.png)"
      ],
      "metadata": {
        "id": "4f3wd_Vl3DcB"
      }
    }
  ]
}